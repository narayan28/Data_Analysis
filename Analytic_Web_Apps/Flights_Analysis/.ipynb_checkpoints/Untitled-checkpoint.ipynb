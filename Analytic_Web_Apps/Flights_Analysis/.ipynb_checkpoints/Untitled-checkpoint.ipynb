{
 "cells": [
  {
   "cell_type": "code",
   "execution_count": null,
   "id": "c46d71bd",
   "metadata": {},
   "outputs": [
    {
     "name": "stdout",
     "output_type": "stream",
     "text": [
      "Dash is running on http://127.0.0.1:8100/\n",
      "\n",
      " * Serving Flask app '__main__' (lazy loading)\n",
      " * Environment: production\n",
      "\u001b[31m   WARNING: This is a development server. Do not use it in a production deployment.\u001b[0m\n",
      "\u001b[2m   Use a production WSGI server instead.\u001b[0m\n",
      " * Debug mode: off\n"
     ]
    },
    {
     "name": "stderr",
     "output_type": "stream",
     "text": [
      " * Running on http://127.0.0.1:8100 (Press CTRL+C to quit)\n",
      "127.0.0.1 - - [05/Sep/2022 13:09:49] \"GET / HTTP/1.1\" 200 -\n",
      "127.0.0.1 - - [05/Sep/2022 13:09:49] \"GET /_dash-component-suites/dash/deps/polyfill@7.v2_6_0m1659342056.12.1.min.js HTTP/1.1\" 200 -\n",
      "127.0.0.1 - - [05/Sep/2022 13:09:49] \"GET /_dash-component-suites/dash/deps/react@16.v2_6_0m1659342056.14.0.min.js HTTP/1.1\" 200 -\n",
      "127.0.0.1 - - [05/Sep/2022 13:09:49] \"GET /_dash-component-suites/dash/deps/react-dom@16.v2_6_0m1659342056.14.0.min.js HTTP/1.1\" 200 -\n",
      "127.0.0.1 - - [05/Sep/2022 13:09:49] \"GET /_dash-component-suites/dash/deps/prop-types@15.v2_6_0m1659342056.8.1.min.js HTTP/1.1\" 200 -\n",
      "127.0.0.1 - - [05/Sep/2022 13:09:49] \"GET /_dash-component-suites/dash_bootstrap_components/_components/dash_bootstrap_components.v1_2_1m1661939408.min.js HTTP/1.1\" 200 -\n",
      "127.0.0.1 - - [05/Sep/2022 13:09:49] \"GET /_dash-component-suites/dash/dcc/dash_core_components-shared.v2_6_0m1659342056.js HTTP/1.1\" 200 -\n",
      "127.0.0.1 - - [05/Sep/2022 13:09:49] \"GET /_dash-component-suites/dash/dash-renderer/build/dash_renderer.v2_6_0m1659342056.min.js HTTP/1.1\" 200 -\n",
      "127.0.0.1 - - [05/Sep/2022 13:09:49] \"GET /_dash-component-suites/dash/dcc/dash_core_components.v2_6_0m1659342056.js HTTP/1.1\" 200 -\n",
      "127.0.0.1 - - [05/Sep/2022 13:09:49] \"GET /_dash-component-suites/dash/dash_table/bundle.v5_1_4m1659342056.js HTTP/1.1\" 200 -\n",
      "127.0.0.1 - - [05/Sep/2022 13:09:49] \"GET /_dash-component-suites/dash/html/dash_html_components.v2_0_4m1659342056.min.js HTTP/1.1\" 200 -\n",
      "127.0.0.1 - - [05/Sep/2022 13:09:51] \"GET /_dash-layout HTTP/1.1\" 200 -\n",
      "127.0.0.1 - - [05/Sep/2022 13:09:51] \"GET /_dash-dependencies HTTP/1.1\" 200 -\n",
      "127.0.0.1 - - [05/Sep/2022 13:09:51] \"GET /_dash-component-suites/dash/dcc/async-dropdown.js HTTP/1.1\" 200 -\n",
      "127.0.0.1 - - [05/Sep/2022 13:09:51] \"GET /_dash-component-suites/dash/dcc/async-graph.js HTTP/1.1\" 200 -\n",
      "127.0.0.1 - - [05/Sep/2022 13:09:51] \"GET /_dash-component-suites/dash/dcc/async-plotlyjs.js HTTP/1.1\" 200 -\n"
     ]
    },
    {
     "name": "stdout",
     "output_type": "stream",
     "text": [
      "<class 'NoneType'>\n"
     ]
    },
    {
     "name": "stderr",
     "output_type": "stream",
     "text": [
      "127.0.0.1 - - [05/Sep/2022 13:09:51] \"GET /_favicon.ico?v=2.6.0 HTTP/1.1\" 200 -\n",
      "127.0.0.1 - - [05/Sep/2022 13:09:52] \"POST /_dash-update-component HTTP/1.1\" 200 -\n",
      "127.0.0.1 - - [05/Sep/2022 13:09:53] \"GET /_dash-component-suites/dash/dash_table/async-highlight.js HTTP/1.1\" 200 -\n",
      "127.0.0.1 - - [05/Sep/2022 13:09:53] \"GET /_dash-component-suites/dash/dash_table/async-table.js HTTP/1.1\" 200 -\n"
     ]
    },
    {
     "name": "stdout",
     "output_type": "stream",
     "text": [
      "<class 'list'>\n"
     ]
    },
    {
     "name": "stderr",
     "output_type": "stream",
     "text": [
      "127.0.0.1 - - [05/Sep/2022 13:10:01] \"POST /_dash-update-component HTTP/1.1\" 200 -\n",
      "127.0.0.1 - - [05/Sep/2022 13:10:05] \"POST /_dash-update-component HTTP/1.1\" 200 -\n"
     ]
    },
    {
     "name": "stdout",
     "output_type": "stream",
     "text": [
      "<class 'list'>\n",
      "<class 'list'>\n"
     ]
    },
    {
     "name": "stderr",
     "output_type": "stream",
     "text": [
      "127.0.0.1 - - [05/Sep/2022 13:10:08] \"POST /_dash-update-component HTTP/1.1\" 200 -\n",
      "127.0.0.1 - - [05/Sep/2022 13:10:13] \"POST /_dash-update-component HTTP/1.1\" 200 -\n"
     ]
    },
    {
     "name": "stdout",
     "output_type": "stream",
     "text": [
      "<class 'list'>\n"
     ]
    },
    {
     "name": "stderr",
     "output_type": "stream",
     "text": [
      "127.0.0.1 - - [05/Sep/2022 13:10:26] \"POST /_dash-update-component HTTP/1.1\" 200 -\n"
     ]
    },
    {
     "name": "stdout",
     "output_type": "stream",
     "text": [
      "<class 'list'>\n"
     ]
    },
    {
     "name": "stderr",
     "output_type": "stream",
     "text": [
      "127.0.0.1 - - [05/Sep/2022 13:10:27] \"POST /_dash-update-component HTTP/1.1\" 200 -\n"
     ]
    },
    {
     "name": "stdout",
     "output_type": "stream",
     "text": [
      "<class 'list'>\n",
      "<class 'list'>\n"
     ]
    },
    {
     "name": "stderr",
     "output_type": "stream",
     "text": [
      "127.0.0.1 - - [05/Sep/2022 13:10:28] \"POST /_dash-update-component HTTP/1.1\" 200 -\n"
     ]
    }
   ],
   "source": [
    "from dash import Dash, html, dcc, Output, Input, dash_table, callback   # pip install dash\n",
    "import dash_bootstrap_components as dbc                                  # pip install dash-bootstrap-components\n",
    "import plotly.express as px\n",
    "import pandas as pd\n",
    "import numpy as np\n",
    "\n",
    "app = Dash(__name__, external_stylesheets=[dbc.themes.LUMEN, dbc.icons.FONT_AWESOME])\n",
    "server = app.server\n",
    "\n",
    "# our data\n",
    "df = pd.read_csv('https://raw.githubusercontent.com/Coding-with-Adam/Dash-by-Plotly/master/Analytic_Web_Apps/Flights_Analysis/europe-flights-reduced.csv')\n",
    "df['YEAR'] = df['YEAR'].astype(str)\n",
    "\n",
    "# create datatable\n",
    "def create_table(data):\n",
    "    # pivot table\n",
    "    pbc = data.groupby(['GEO','PARTNER'])['Value'].sum().reset_index()\n",
    "    pbc = pbc.pivot(index='GEO', columns='PARTNER')['Value'].reset_index()\n",
    "    pbc = pbc[pbc['GEO'].isin(['Allemagne','Espagne','France','Grèce','Italie',\n",
    "                               'Pays-Bas','Portugal','Royaume-Uni','Suisse','Turquie'])]\n",
    "\n",
    "    # add total values row and column\n",
    "    sums_col = pbc.select_dtypes(np.number).sum()\n",
    "    pbc = pd.concat([pbc, sums_col.to_frame().T], ignore_index=True)\n",
    "    pbc.at[10, 'GEO'] = 'Total'\n",
    "\n",
    "    sums_r = pbc.select_dtypes(np.number).sum(axis=1)\n",
    "    pbc['total'] = sums_r\n",
    "\n",
    "    return dash_table.DataTable(\n",
    "        data=pbc.to_dict('records'),\n",
    "        fixed_columns={'headers': True, 'data': 1},\n",
    "        style_table={'minWidth': '100%'}\n",
    "    )\n",
    "\n",
    "\n",
    "app.layout = dbc.Container([\n",
    "    dbc.Row([\n",
    "        dbc.Col([\n",
    "            html.Span([\n",
    "                    html.I(className='fa-solid fa-plane-departure'),\n",
    "                \" Number of Passangers between European countries 2019-2021 \",\n",
    "                html.I(className=\"fa-solid fa-plane-departure\")], className='h2')\n",
    "    ], width=10)\n",
    "    ], justify='center', className='my-2'),\n",
    "\n",
    "    dbc.Row([\n",
    "        dbc.Col([html.Label('YEAR', className='bg-secondary')],width=2),\n",
    "        dbc.Col([html.Label('Number of passangers per Year', className='bg-secondary')], width={\"size\": 4, \"offset\": 1}),\n",
    "        dbc.Col([html.Label('Total passangers per Month', className='bg-secondary')], width={\"size\": 4, \"offset\": 1})\n",
    "    ]),\n",
    "\n",
    "    dbc.Row([\n",
    "        dbc.Col([\n",
    "            dcc.Dropdown(['2019', '2020', '2021'], multi=True, id='year_dpdn'),\n",
    "            html.Label('MONTH', className='bg-secondary'),\n",
    "            dcc.Dropdown([1,2,3,4,5,6,7,8,9,10,11,12], multi=True, id='month_dpdn'),\n",
    "            html.Label('GEO', className='bg-secondary'),\n",
    "            dcc.Dropdown([x for x in sorted(df['GEO'].unique())], multi=True, id='geo_dpdn'),\n",
    "            html.Label('PARTNER', className='bg-secondary'),\n",
    "            dcc.Dropdown([x for x in sorted(df['PARTNER'].unique())], multi=True, id='partner_dpdn'),\n",
    "            html.Label('Number of countries', className='bg-secondary'),\n",
    "            html.H1(id='num_country')\n",
    "        ], width=2),\n",
    "        dbc.Col([\n",
    "            dcc.Graph(id='hist', config={'displayModeBar':False})\n",
    "        ], width=4),\n",
    "        dbc.Col([\n",
    "            dcc.Graph(id='line', config={'displayModeBar':False})\n",
    "        ], width=6)\n",
    "    ]),\n",
    "\n",
    "    dbc.Row([\n",
    "        dbc.Col([html.Label(\"Number of Passengers Between Countries\", className=\"align-middle\")], width={\"size\": 6, \"offset\": 3})\n",
    "    ], className='bg-secondary'),\n",
    "\n",
    "    dbc.Row([\n",
    "        dbc.Col([\n",
    "            html.Div(id='my-table')\n",
    "        ], width=12)\n",
    "    ])\n",
    "])\n",
    "\n",
    "@callback(\n",
    "    Output('hist', 'figure'),\n",
    "    Output('line', 'figure'),\n",
    "    Output('my-table', 'children'),\n",
    "    Output('num_country', 'children'),\n",
    "    Input('year_dpdn', 'value'),\n",
    "    Input('month_dpdn', 'value'),\n",
    "    Input('geo_dpdn', 'value'),\n",
    "    Input('partner_dpdn', 'value')\n",
    ")\n",
    "def update_graphs(year_v, month_v, geo_v, partner_v):\n",
    "    dff = df.copy()\n",
    "    print(type(year_v))\n",
    "\n",
    "    if any([year_v, month_v, geo_v, partner_v]):\n",
    "        if year_v is not None:\n",
    "            if len(year_v)>0:\n",
    "                dff = dff.query(f\"YEAR == {year_v}\")\n",
    "        if month_v is not None:\n",
    "            if len(month_v) > 0:\n",
    "                dff = dff.query(f\"MONTH == {month_v}\")\n",
    "        if geo_v is not None:\n",
    "            if len(geo_v)>0:\n",
    "                dff = dff.query(f\"GEO == {geo_v}\")\n",
    "                country_count = len(geo_v)\n",
    "        if geo_v is None or len(geo_v)==0:\n",
    "            country_count = 35\n",
    "        if partner_v is not None:\n",
    "            if len(partner_v) > 0:\n",
    "                dff = dff.query(f\"PARTNER == {partner_v}\")\n",
    "\n",
    "        psg_by_month = dff.groupby('MONTH')['Value'].sum().reset_index()\n",
    "        psg_by_month = psg_by_month.sort_values('Value',\n",
    "                                                ignore_index=True,\n",
    "                                                ascending=False)\n",
    "        fig_line = px.line(psg_by_month, x='MONTH', y='Value').update_xaxes(type='category').update_layout(margin=dict(l=10, r=10, t=10, b=10))\n",
    "\n",
    "        fig_hist = px.histogram(dff, x='YEAR', y='Value').update_layout(margin=dict(l=10, r=10, t=10, b=10))\n",
    "\n",
    "        table = create_table(dff)\n",
    "\n",
    "        return fig_hist, fig_line, table, country_count\n",
    "\n",
    "    if not any([year_v, month_v, geo_v, partner_v]):  # equivalent to if all are None...\n",
    "        psg_by_month = df.groupby('MONTH')['Value'].sum().reset_index()\n",
    "        psg_by_month = psg_by_month.sort_values('Value',\n",
    "                                                ignore_index=True,\n",
    "                                                ascending=False)\n",
    "        fig_line = px.line(psg_by_month, x='MONTH', y='Value').update_xaxes(type='category').update_layout(margin=dict(l=10, r=10, t=10, b=10))\n",
    "\n",
    "        fig_hist = px.histogram(dff, x='YEAR', y='Value').update_layout(margin=dict(l=10, r=10, t=10, b=10))\n",
    "\n",
    "        table = create_table(df)\n",
    "\n",
    "\n",
    "        return fig_hist, fig_line, table, df['GEO'].nunique()\n",
    "\n",
    "\n",
    "if __name__=='__main__':\n",
    "    app.run(debug=False, port = 8100)\n"
   ]
  },
  {
   "cell_type": "code",
   "execution_count": null,
   "id": "56c55428",
   "metadata": {},
   "outputs": [],
   "source": []
  }
 ],
 "metadata": {
  "kernelspec": {
   "display_name": "Python 3 (ipykernel)",
   "language": "python",
   "name": "python3"
  },
  "language_info": {
   "codemirror_mode": {
    "name": "ipython",
    "version": 3
   },
   "file_extension": ".py",
   "mimetype": "text/x-python",
   "name": "python",
   "nbconvert_exporter": "python",
   "pygments_lexer": "ipython3",
   "version": "3.8.13"
  }
 },
 "nbformat": 4,
 "nbformat_minor": 5
}
